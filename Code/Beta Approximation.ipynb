{
 "cells": [
  {
   "cell_type": "code",
   "execution_count": 1,
   "metadata": {},
   "outputs": [],
   "source": [
    "import numpy as np\n",
    "import csv\n",
    "import matplotlib.pyplot as plt\n",
    "import platform\n",
    "#import SIRD_Model_Experimental\n",
    "import SIRD_Model\n",
    "from sklearn import linear_model\n"
   ]
  },
  {
   "cell_type": "code",
   "execution_count": 11,
   "metadata": {},
   "outputs": [],
   "source": [
    "def getGamma(infect, dead):\n",
    "    \n",
    "    recovG = approxRecovered(infect)\n",
    "    infect = infect - recovG - dead\n",
    "    infect = infect[:299].reshape((299,1))\n",
    "    recovGD = np.diff(recovG)\n",
    "    recovGD - recovGD.reshape((299,1))\n",
    "\n",
    "    gamma = np.linalg.lstsq(infect, recovGD)[0]\n",
    "    return gamma\n",
    "\n",
    "def approxRecovered(infect):\n",
    "    recovG = np.zeros(len(infect))\n",
    "    for i in range(len(infect) - 13):\n",
    "        recovG[i + 13] = infect[i]\n",
    "    return recovG\n",
    "\n",
    "\n",
    "def getBeta(pop, q, infect, dead):\n",
    "    \n",
    "    sigma = regressionSlopeSeries(infect, 9 )\n",
    "    recov = approxRecovered(infect)\n",
    "    infectN = infect - recov - dead\n",
    "    Z = infect\n",
    "    Zt = q * Z\n",
    "    It = q * infectN\n",
    "    \n",
    "    Beta = sigma * (q * pop + It[4:len(It)-4] - Zt[4:len(It)-4]) / (It[4:len(It)-4] * (q * pop - Zt[4:len(It)-4]))\n",
    "    return Beta\n",
    "    \n",
    "    \n",
    "def regressionSlopeSeries(points, window):\n",
    "    \"\"\"\n",
    "    Given a series of points and a window size, estimates the slope at each point\n",
    "    Outputs both the estimated slopes and regression errors for all applicable points\n",
    "    Window should be odd, if it isn't it will automatically be interpreted as one larger than the argument passed\n",
    "    \"\"\"\n",
    "    # cut the window in half so we know how long it extends on both sides\n",
    "    half_window = window//2\n",
    "    num_points = len(points)\n",
    "    slopes = []\n",
    "    for i in range(num_points):\n",
    "        # if there are not enough previous values to satisfy window size, continue\n",
    "        if i < half_window:\n",
    "            continue\n",
    "        # if there are not enough values after the current one to satisfy window size, break\n",
    "        if num_points-i < half_window:\n",
    "            break\n",
    "        timeArray = np.ones((len(points), 2))\n",
    "        timeArray[:,1]  = np.arange(len(points))\n",
    "        pointArray = np.array(points)\n",
    "        point_slope, res, _, _ = np.linalg.lstsq(timeArray, np.log(pointArray), rcond=None)\n",
    "        slope = point_slope[1]\n",
    "        slopes.append(slope)\n",
    "\n",
    "    slopes = np.array(slopes)\n",
    "    return slopes"
   ]
  },
  {
   "cell_type": "code",
   "execution_count": 12,
   "metadata": {},
   "outputs": [
    {
     "name": "stderr",
     "output_type": "stream",
     "text": [
      "<ipython-input-11-19ec5a2f9d7e>:9: FutureWarning: `rcond` parameter will change to the default of machine precision times ``max(M, N)`` where M and N are the input matrix dimensions.\n",
      "To use the future default and silence this warning we advise to pass `rcond=None`, to keep using the old, explicitly pass `rcond=-1`.\n",
      "  gamma = np.linalg.lstsq(infect, recovGD)[0]\n"
     ]
    },
    {
     "ename": "ValueError",
     "evalue": "operands could not be broadcast together with shapes (293,) (292,) ",
     "output_type": "error",
     "traceback": [
      "\u001b[1;31m---------------------------------------------------------------------------\u001b[0m",
      "\u001b[1;31mValueError\u001b[0m                                Traceback (most recent call last)",
      "\u001b[1;32m<ipython-input-12-a3948d0f3973>\u001b[0m in \u001b[0;36m<module>\u001b[1;34m\u001b[0m\n\u001b[0;32m     16\u001b[0m \u001b[0mgamma\u001b[0m \u001b[1;33m=\u001b[0m \u001b[0mgetGamma\u001b[0m\u001b[1;33m(\u001b[0m\u001b[0minfect\u001b[0m\u001b[1;33m,\u001b[0m\u001b[0mdead\u001b[0m\u001b[1;33m)\u001b[0m\u001b[1;33m\u001b[0m\u001b[1;33m\u001b[0m\u001b[0m\n\u001b[0;32m     17\u001b[0m \u001b[0mq\u001b[0m \u001b[1;33m=\u001b[0m \u001b[1;36m0.0754\u001b[0m\u001b[1;33m\u001b[0m\u001b[1;33m\u001b[0m\u001b[0m\n\u001b[1;32m---> 18\u001b[1;33m \u001b[0mbeta\u001b[0m \u001b[1;33m=\u001b[0m \u001b[0mgetBeta\u001b[0m\u001b[1;33m(\u001b[0m\u001b[0mpop\u001b[0m\u001b[1;33m,\u001b[0m \u001b[0mq\u001b[0m\u001b[1;33m,\u001b[0m \u001b[0minfect\u001b[0m\u001b[1;33m,\u001b[0m \u001b[0mdead\u001b[0m\u001b[1;33m)\u001b[0m\u001b[1;33m\u001b[0m\u001b[1;33m\u001b[0m\u001b[0m\n\u001b[0m\u001b[0;32m     19\u001b[0m \u001b[0mprint\u001b[0m\u001b[1;33m(\u001b[0m\u001b[0mgamma\u001b[0m\u001b[1;33m,\u001b[0m \u001b[0mbeta\u001b[0m\u001b[1;33m)\u001b[0m\u001b[1;33m\u001b[0m\u001b[1;33m\u001b[0m\u001b[0m\n",
      "\u001b[1;32m<ipython-input-11-19ec5a2f9d7e>\u001b[0m in \u001b[0;36mgetBeta\u001b[1;34m(pop, q, infect, dead)\u001b[0m\n\u001b[0;32m     26\u001b[0m     \u001b[0mIt\u001b[0m \u001b[1;33m=\u001b[0m \u001b[0mq\u001b[0m \u001b[1;33m*\u001b[0m \u001b[0minfectN\u001b[0m\u001b[1;33m\u001b[0m\u001b[1;33m\u001b[0m\u001b[0m\n\u001b[0;32m     27\u001b[0m \u001b[1;33m\u001b[0m\u001b[0m\n\u001b[1;32m---> 28\u001b[1;33m     \u001b[0mBeta\u001b[0m \u001b[1;33m=\u001b[0m \u001b[0msigma\u001b[0m \u001b[1;33m*\u001b[0m \u001b[1;33m(\u001b[0m\u001b[0mq\u001b[0m \u001b[1;33m*\u001b[0m \u001b[0mpop\u001b[0m \u001b[1;33m+\u001b[0m \u001b[0mIt\u001b[0m\u001b[1;33m[\u001b[0m\u001b[1;36m4\u001b[0m\u001b[1;33m:\u001b[0m\u001b[0mlen\u001b[0m\u001b[1;33m(\u001b[0m\u001b[0mIt\u001b[0m\u001b[1;33m)\u001b[0m\u001b[1;33m-\u001b[0m\u001b[1;36m4\u001b[0m\u001b[1;33m]\u001b[0m \u001b[1;33m-\u001b[0m \u001b[0mZt\u001b[0m\u001b[1;33m[\u001b[0m\u001b[1;36m4\u001b[0m\u001b[1;33m:\u001b[0m\u001b[0mlen\u001b[0m\u001b[1;33m(\u001b[0m\u001b[0mIt\u001b[0m\u001b[1;33m)\u001b[0m\u001b[1;33m-\u001b[0m\u001b[1;36m4\u001b[0m\u001b[1;33m]\u001b[0m\u001b[1;33m)\u001b[0m \u001b[1;33m/\u001b[0m \u001b[1;33m(\u001b[0m\u001b[0mIt\u001b[0m\u001b[1;33m[\u001b[0m\u001b[1;36m4\u001b[0m\u001b[1;33m:\u001b[0m\u001b[0mlen\u001b[0m\u001b[1;33m(\u001b[0m\u001b[0mIt\u001b[0m\u001b[1;33m)\u001b[0m\u001b[1;33m-\u001b[0m\u001b[1;36m4\u001b[0m\u001b[1;33m]\u001b[0m \u001b[1;33m*\u001b[0m \u001b[1;33m(\u001b[0m\u001b[0mq\u001b[0m \u001b[1;33m*\u001b[0m \u001b[0mpop\u001b[0m \u001b[1;33m-\u001b[0m \u001b[0mZt\u001b[0m\u001b[1;33m[\u001b[0m\u001b[1;36m4\u001b[0m\u001b[1;33m:\u001b[0m\u001b[0mlen\u001b[0m\u001b[1;33m(\u001b[0m\u001b[0mIt\u001b[0m\u001b[1;33m)\u001b[0m\u001b[1;33m-\u001b[0m\u001b[1;36m4\u001b[0m\u001b[1;33m]\u001b[0m\u001b[1;33m)\u001b[0m\u001b[1;33m)\u001b[0m\u001b[1;33m\u001b[0m\u001b[1;33m\u001b[0m\u001b[0m\n\u001b[0m\u001b[0;32m     29\u001b[0m     \u001b[1;32mreturn\u001b[0m \u001b[0mBeta\u001b[0m\u001b[1;33m\u001b[0m\u001b[1;33m\u001b[0m\u001b[0m\n\u001b[0;32m     30\u001b[0m \u001b[1;33m\u001b[0m\u001b[0m\n",
      "\u001b[1;31mValueError\u001b[0m: operands could not be broadcast together with shapes (293,) (292,) "
     ]
    }
   ],
   "source": [
    "pathc=\"../Data/Covid Tracking State Data/\"\n",
    "# modify the path syntax based on the current platform\n",
    "if platform.system() == \"Windows\":\n",
    "    pathc.replace(\"/\", \"\\\\\")\n",
    "    \n",
    "filename = \"IN.csv\"\n",
    "\n",
    "dates, infectRaw, recovRaw, deadRaw = SIRD_Model.loadData(pathc + filename)\n",
    "\n",
    "pop = 3011000\n",
    "numDays = 300\n",
    "daysToPredict = 30\n",
    "infect = infectRaw[0:numDays]\n",
    "dead = deadRaw[0:numDays]\n",
    "\n",
    "gamma = getGamma(infect,dead)\n",
    "q = 0.0754\n",
    "beta = getBeta(pop, q, infect, dead)\n",
    "print(gamma, beta)"
   ]
  },
  {
   "cell_type": "code",
   "execution_count": null,
   "metadata": {},
   "outputs": [],
   "source": []
  }
 ],
 "metadata": {
  "kernelspec": {
   "display_name": "Python 3",
   "language": "python",
   "name": "python3"
  },
  "language_info": {
   "codemirror_mode": {
    "name": "ipython",
    "version": 3
   },
   "file_extension": ".py",
   "mimetype": "text/x-python",
   "name": "python",
   "nbconvert_exporter": "python",
   "pygments_lexer": "ipython3",
   "version": "3.8.5"
  }
 },
 "nbformat": 4,
 "nbformat_minor": 4
}
