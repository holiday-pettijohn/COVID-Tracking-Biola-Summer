{
 "cells": [
  {
   "cell_type": "code",
   "execution_count": 3,
   "id": "546a6781",
   "metadata": {},
   "outputs": [],
   "source": [
    "import numpy as np\n",
    "import csv\n",
    "import matplotlib.pyplot as plt\n",
    "import platform\n",
    "#import SIRD_Model_Experimental\n",
    "import SIRD_Model\n",
    "from sklearn import linear_model\n"
   ]
  },
  {
   "cell_type": "markdown",
   "id": "0328aa6e",
   "metadata": {},
   "source": [
    "### JHU Data\n",
    "### https://github.com/CSSEGISandData/COVID-19/tree/master/csse_covid_19_data"
   ]
  },
  {
   "cell_type": "code",
   "execution_count": 28,
   "id": "e8e0b2e1",
   "metadata": {},
   "outputs": [],
   "source": [
    "class CovidTimeSeries(object):\n",
    "    \"\"\" Stores the JHU time series data for a county for covid \"\"\"\n",
    "    def __init__(self):\n",
    "        self.UID= None\n",
    "        self.iso2=None\n",
    "        self.iso3=None\n",
    "        self.code3=None\n",
    "        self.FIPS=None\n",
    "        self.Admin2=None\n",
    "        self.Province_State=None\n",
    "        self.Country_Region=None\n",
    "        self.Lat=None\n",
    "        self.Long=None\n",
    "        self.Combined_Key=None\n",
    "        self.Population=None\n",
    "        self.infections=None\n",
    "        self.deaths=None\n",
    "        \n",
    "        \n",
    " \n",
    "class CovidDatabase(object):\n",
    "    \"\"\" Stores the covid-19 data\"\"\"\n",
    "    def __init__(self):\n",
    "        self.CovidData={}\n",
    "        self.DateRange=[]\n",
    "      \n",
    "    def loadTimeSeries(self, filenameI, filenameD, startdate, enddate):\n",
    "        \"\"\" load the infections data from filenameI and death data from filenameD\n",
    "            from startdate to enddate\n",
    "        \"\"\"\n",
    "        csvfile=open(filenameI, newline='')\n",
    "        rd = csv.reader(csvfile, delimiter=',')\n",
    "        data=[]\n",
    "        for lv in rd:\n",
    "                data.append(lv)\n",
    "\n",
    "        header=data[0]\n",
    "        infectionData=data[1:]\n",
    "\n",
    "        csvfiled=open(filenameD, newline='')\n",
    "        rd = csv.reader(csvfiled, delimiter=',')\n",
    "        datad=[]\n",
    "        for lv in rd:\n",
    "                datad.append(lv)\n",
    "\n",
    "        headerd=datad[0]\n",
    "        deathData=datad[1:]\n",
    "\n",
    "        startdate_index=header.index(startdate)\n",
    "        enddate_index=header.index(enddate)\n",
    "        startdate_indexd=headerd.index(startdate)\n",
    "        enddate_indexd=headerd.index(enddate)\n",
    "\n",
    "        CountyD={}\n",
    "        N=len(infectionData);\n",
    "        for i in range(N):\n",
    "            pop1=int(deathData[i][11])\n",
    "            if (pop1>0):\n",
    "                c1=CovidTimeSeries()\n",
    "                c1.Population=pop1\n",
    "                c1.UID= infectionData[i][0]\n",
    "                c1.iso2=infectionData[i][1]\n",
    "                c1.iso3=infectionData[i][2]\n",
    "                c1.code3=infectionData[i][3]\n",
    "                fp=infectionData[i][4]\n",
    "                if (fp==''):\n",
    "                    x=-1\n",
    "                else:\n",
    "                    x=int(float(fp))\n",
    "                c1.FIPS=x\n",
    "                c1.Admin2=infectionData[i][5]\n",
    "                c1.Province_State=infectionData[i][6]\n",
    "                c1.Country_Region=infectionData[i][7]\n",
    "                c1.Lat=float(infectionData[i][8])\n",
    "                c1.Long=float(infectionData[i][9])\n",
    "                c1.Combined_Key=infectionData[i][10]\n",
    "                c1.infections=np.array([float(a) for a  in infectionData[i][startdate_index:enddate_index+1]])\n",
    "                c1.deaths=np.array([float(a) for a  in deathData[i][startdate_indexd:enddate_indexd+1]])\n",
    "                CountyD[x]=c1\n",
    "        self.DateRange=header[startdate_index:enddate_index+1]\n",
    "        self.CovidData=CountyD\n"
   ]
  },
  {
   "cell_type": "code",
   "execution_count": 25,
   "id": "8580afdd",
   "metadata": {},
   "outputs": [
    {
     "data": {
      "text/plain": [
       "[<matplotlib.lines.Line2D at 0x7fa14ed2c0a0>]"
      ]
     },
     "execution_count": 25,
     "metadata": {},
     "output_type": "execute_result"
    },
    {
     "data": {
      "image/png": "[encoded data removed]",
      "text/plain": [
       "<Figure size 1296x576 with 2 Axes>"
      ]
     },
     "metadata": {
      "needs_background": "light"
     },
     "output_type": "display_data"
    }
   ],
   "source": [
    "k1=6037 #LA county\n",
    "i1=database.CovidData[k1].infections\n",
    "d1=database.CovidData[k1].deaths\n",
    "\n",
    "fig2, ax2=plt.subplots(1, 2, figsize=(18,8))\n",
    "ax2[0].plot(i1, color='blue', label='infections')\n",
    "ax2[1].plot(d1, color='red', label='deaths')\n"
   ]
  },
  {
   "cell_type": "code",
   "execution_count": null,
   "id": "5a476b8b",
   "metadata": {},
   "outputs": [],
   "source": []
  }
 ],
 "metadata": {
  "kernelspec": {
   "display_name": "Python 3",
   "language": "python",
   "name": "python3"
  },
  "language_info": {
   "codemirror_mode": {
    "name": "ipython",
    "version": 3
   },
   "file_extension": ".py",
   "mimetype": "text/x-python",
   "name": "python",
   "nbconvert_exporter": "python",
   "pygments_lexer": "ipython3",
   "version": "3.8.8"
  }
 },
 "nbformat": 4,
 "nbformat_minor": 5
}
